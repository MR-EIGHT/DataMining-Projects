{
 "cells": [
  {
   "cell_type": "markdown",
   "id": "454be921",
   "metadata": {},
   "source": [
    "# CoV-19 Preprocessing & Prediction "
   ]
  },
  {
   "cell_type": "markdown",
   "id": "0b0c39af",
   "metadata": {},
   "source": [
    "## Mehrdad Heshmat"
   ]
  },
  {
   "cell_type": "markdown",
   "id": "d932108d",
   "metadata": {},
   "source": [
    "### Section 1: Importing Required Libraries"
   ]
  },
  {
   "cell_type": "code",
   "execution_count": 1,
   "id": "64266e41",
   "metadata": {},
   "outputs": [],
   "source": [
    "import pandas as pd\n",
    "from scipy.stats import ttest_rel\n",
    "import matplotlib.pyplot as plt\n",
    "import matplotlib.dates as mdates\n",
    "from matplotlib.ticker import FormatStrFormatter\n",
    "\n",
    "%matplotlib inline\n",
    "pd.set_option(\"display.max_rows\",None,\"display.max_columns\",None)\n"
   ]
  },
  {
   "cell_type": "markdown",
   "id": "8194c6cd",
   "metadata": {},
   "source": [
    "### Initializing output-paths:"
   ]
  },
  {
   "cell_type": "code",
   "execution_count": 2,
   "id": "c3624826",
   "metadata": {},
   "outputs": [],
   "source": [
    "import os\n",
    "if not os.path.isdir(\".\\\\output\") or not os.path.isdir(\".\\\\output\\\\charts\"):\n",
    "    try:\n",
    "        os.makedirs(\".\\\\output\\\\charts\")\n",
    "        os.makedirs(\".\\\\output\\\\preprocessed_Dataframe\")\n",
    "        \n",
    "    except FileExistsError:\n",
    "        print(FileExistsError)"
   ]
  },
  {
   "cell_type": "markdown",
   "id": "6b461921",
   "metadata": {},
   "source": [
    "### Section 2: Loading the Data & Exploring It"
   ]
  },
  {
   "cell_type": "code",
   "execution_count": 3,
   "id": "80054407",
   "metadata": {},
   "outputs": [],
   "source": [
    "df  = pd.read_csv(\".\\SARS-CoV-2_Dataset_main.csv\")"
   ]
  },
  {
   "cell_type": "code",
   "execution_count": 4,
   "id": "8788a3d7",
   "metadata": {},
   "outputs": [
    {
     "data": {
      "text/plain": [
       "(121953, 9)"
      ]
     },
     "execution_count": 4,
     "metadata": {},
     "output_type": "execute_result"
    }
   ],
   "source": [
    "df.shape"
   ]
  },
  {
   "cell_type": "code",
   "execution_count": 5,
   "id": "0eafec85",
   "metadata": {},
   "outputs": [
    {
     "name": "stdout",
     "output_type": "stream",
     "text": [
      "<class 'pandas.core.frame.DataFrame'>\n",
      "RangeIndex: 121953 entries, 0 to 121952\n",
      "Data columns (total 9 columns):\n",
      " #   Column                   Non-Null Count   Dtype  \n",
      "---  ------                   --------------   -----  \n",
      " 0   continent                116402 non-null  object \n",
      " 1   location                 121953 non-null  object \n",
      " 2   date                     121953 non-null  object \n",
      " 3   total_cases              115720 non-null  float64\n",
      " 4   total_deaths             104903 non-null  float64\n",
      " 5   total_vaccinations       28228 non-null   float64\n",
      " 6   people_vaccinated        26813 non-null   float64\n",
      " 7   people_fully_vaccinated  23715 non-null   float64\n",
      " 8   population               121088 non-null  float64\n",
      "dtypes: float64(6), object(3)\n",
      "memory usage: 8.4+ MB\n"
     ]
    }
   ],
   "source": [
    "df.info()"
   ]
  },
  {
   "cell_type": "markdown",
   "id": "e03edbdb",
   "metadata": {},
   "source": [
    "# Preprocessing "
   ]
  },
  {
   "cell_type": "markdown",
   "id": "3a9310cc",
   "metadata": {},
   "source": [
    "### Task1:\n"
   ]
  },
  {
   "cell_type": "code",
   "execution_count": 6,
   "id": "76efc7cf",
   "metadata": {},
   "outputs": [],
   "source": [
    "df['total_vaccinations']=df['total_vaccinations'].fillna(0)\n",
    "df['people_vaccinated']=df['people_vaccinated'].fillna(0)\n",
    "df['people_fully_vaccinated']=df['people_fully_vaccinated'].fillna(0)\n"
   ]
  },
  {
   "cell_type": "code",
   "execution_count": 7,
   "id": "320875aa",
   "metadata": {},
   "outputs": [],
   "source": [
    "df = df[df.location != 'International']\n",
    "df = df[df.location !=  'Northern Cyprus']"
   ]
  },
  {
   "cell_type": "code",
   "execution_count": 8,
   "id": "02138666",
   "metadata": {},
   "outputs": [],
   "source": [
    "countries_set = set(df.location)\n",
    "for cont in countries_set:\n",
    "    df.loc[(df.location == cont) ,'people_fully_vaccinated' ]=df.loc[(df.location == cont)]['people_fully_vaccinated'].replace(0 ,method='ffill')\n",
    "    df.loc[(df.location == cont) ,'total_vaccinations' ]=df.loc[(df.location == cont)]['total_vaccinations'].replace(0 ,method='ffill')\n"
   ]
  },
  {
   "cell_type": "code",
   "execution_count": 9,
   "id": "9c45a5cd",
   "metadata": {},
   "outputs": [],
   "source": [
    "df.to_csv('output\\\\preprocessed_Dataframe\\\\' + 'preprocessed_df-Stage 1.csv')"
   ]
  },
  {
   "cell_type": "markdown",
   "id": "0ec2d2de",
   "metadata": {},
   "source": [
    "### Task2:"
   ]
  },
  {
   "cell_type": "code",
   "execution_count": 10,
   "id": "2ce67e56",
   "metadata": {},
   "outputs": [],
   "source": [
    "df['people_fully_vaccinated_per_population'] = (df.people_fully_vaccinated * 100) / df.population\n",
    "df['total_deaths_per_population'] = (df.total_deaths * 100) / df.population\n",
    "df['total_cases_per_population'] = (df.total_cases * 100) / df.population\n",
    "\n"
   ]
  },
  {
   "cell_type": "code",
   "execution_count": 11,
   "id": "8fc3e61b",
   "metadata": {},
   "outputs": [],
   "source": [
    "df['people_fully_vaccinated_per_population']= df['people_fully_vaccinated_per_population'].fillna(0)\n",
    "df['total_deaths_per_population'] = df['total_deaths_per_population'].fillna(0)\n",
    "df['total_cases_per_population']=df['total_cases_per_population'].fillna(0)\n",
    "df['total_deaths']=df['total_deaths'].fillna(0)\n",
    "df['total_cases']=df['total_cases'].fillna(0)"
   ]
  },
  {
   "cell_type": "markdown",
   "id": "26e4eada",
   "metadata": {},
   "source": [
    "### Task3:"
   ]
  },
  {
   "cell_type": "code",
   "execution_count": 14,
   "id": "d733cdd1",
   "metadata": {},
   "outputs": [],
   "source": [
    "df.date = pd.to_datetime(df.date, format='%m/%d/%Y')"
   ]
  },
  {
   "cell_type": "code",
   "execution_count": 15,
   "id": "e368d82e",
   "metadata": {},
   "outputs": [
    {
     "name": "stdout",
     "output_type": "stream",
     "text": [
      "{'Cayman Islands', 'Bolivia', 'Mauritania', 'Bosnia and Herzegovina', 'Suriname', 'Finland', 'Isle of Man', 'Maldives', 'Portugal', 'Ecuador', 'South Korea', 'Spain', 'Uganda', 'Ukraine', 'Jordan', 'Aruba', 'Georgia', 'Anguilla', 'El Salvador', 'Indonesia', 'Marshall Islands', 'Africa', 'Eritrea', 'Egypt', 'Bonaire Sint Eustatius and Saba', 'Taiwan', 'Azerbaijan', 'Mongolia', 'Zambia', 'Madagascar', 'Belarus', 'Pakistan', 'Qatar', 'Philippines', 'Sweden', 'Ethiopia', 'Mexico', 'Yemen', 'Iran', 'Tanzania', 'Brunei', 'Europe', 'Cambodia', 'Fiji', 'Uzbekistan', 'Somalia', 'Greenland', 'Iraq', 'Mali', 'Kazakhstan', 'Guinea', 'Moldova', 'Timor', 'Papua New Guinea', 'New Caledonia', 'Slovakia', \"Cote d'Ivoire\", 'Bhutan', 'Nigeria', 'Italy', 'Andorra', 'Burundi', 'Denmark', 'Tuvalu', 'Norway', 'Laos', 'World', 'Comoros', 'Netherlands', 'Uruguay', 'Gabon', 'Rwanda', 'United Kingdom', 'Australia', 'Micronesia (country)', 'Sri Lanka', 'Kyrgyzstan', 'Turkey', 'United States', 'Venezuela', 'Dominican Republic', 'Chad', 'Malawi', 'Dominica', 'Latvia', 'Estonia', 'San Marino', 'British Virgin Islands', 'Japan', 'Nauru', 'Romania', 'United Arab Emirates', 'French Polynesia', 'Malaysia', 'Thailand', 'Niger', 'South America', 'Algeria', 'Barbados', 'Cuba', 'Sao Tome and Principe', 'South Sudan', 'Asia', 'Colombia', 'Congo', 'Haiti', 'Bahrain', 'Liberia', 'Sierra Leone', 'Antigua and Barbuda', 'Myanmar', 'Slovenia', 'Czechia', 'Germany', 'Switzerland', 'Samoa', 'Cyprus', 'Cape Verde', 'Solomon Islands', 'Namibia', 'Montenegro', 'Macao', 'Chile', 'South Africa', 'Curacao', 'Albania', 'Guinea-Bissau', 'Lesotho', 'Sudan', 'Tonga', 'Serbia', 'Wallis and Futuna', 'Mozambique', 'Kosovo', 'Libya', 'Malta', 'Equatorial Guinea', 'Turks and Caicos Islands', 'Liechtenstein', 'Nepal', 'Brazil', 'Guyana', 'Kuwait', 'Austria', 'Faeroe Islands', 'Oceania', 'Iceland', 'Saint Kitts and Nevis', 'Benin', 'Bermuda', 'Tajikistan', 'Greece', 'Djibouti', 'Costa Rica', 'Saint Lucia', 'France', 'Bangladesh', 'Ireland', 'Zimbabwe', 'Cook Islands', 'Poland', 'Togo', 'Vietnam', 'Belize', 'Oman', 'Pitcairn', 'Niue', 'Saudi Arabia', 'Guatemala', 'Senegal', 'Angola', 'Sint Maarten (Dutch part)', 'Panama', 'Jersey', 'Vanuatu', 'Morocco', 'Gibraltar', 'Vatican', 'Seychelles', 'Grenada', 'Guernsey', 'Peru', 'Israel', 'Democratic Republic of Congo', 'Afghanistan', 'Falkland Islands', 'Lithuania', 'Saint Helena', 'Hungary', 'European Union', 'Saint Vincent and the Grenadines', 'North America', 'Armenia', 'Honduras', 'Cameroon', 'Turkmenistan', 'Russia', 'Central African Republic', 'Lebanon', 'China', 'Bahamas', 'Kenya', 'Montserrat', 'Bulgaria', 'Nicaragua', 'Luxembourg', 'Monaco', 'Botswana', 'Burkina Faso', 'Kiribati', 'New Zealand', 'Gambia', 'Syria', 'Ghana', 'Tunisia', 'Palestine', 'Mauritius', 'Singapore', 'Paraguay', 'Tokelau', 'Argentina', 'Belgium', 'Canada', 'North Macedonia', 'Eswatini', 'Palau', 'Jamaica', 'Trinidad and Tobago', 'Hong Kong', 'India', 'Croatia'}\n"
     ]
    }
   ],
   "source": [
    "print(set(df.location))"
   ]
  },
  {
   "cell_type": "markdown",
   "id": "40c1781b",
   "metadata": {},
   "source": [
    "### Saving Preprocessed DataFrame"
   ]
  },
  {
   "cell_type": "code",
   "execution_count": 33,
   "id": "dd95c699",
   "metadata": {},
   "outputs": [],
   "source": [
    "df.to_csv('output\\\\preprocessed_Dataframe\\\\' + 'preprocessed_SARS-CoV-2_Dataset_main.csv')"
   ]
  },
  {
   "cell_type": "code",
   "execution_count": null,
   "id": "cc7aabf4",
   "metadata": {},
   "outputs": [],
   "source": []
  },
  {
   "cell_type": "markdown",
   "id": "807d3257",
   "metadata": {},
   "source": [
    "# Prediction"
   ]
  },
  {
   "cell_type": "markdown",
   "id": "151fcd95",
   "metadata": {},
   "source": [
    "### Importing Required Libraries"
   ]
  },
  {
   "cell_type": "code",
   "execution_count": null,
   "id": "b846226b",
   "metadata": {},
   "outputs": [],
   "source": []
  },
  {
   "cell_type": "code",
   "execution_count": null,
   "id": "f4ea271a",
   "metadata": {},
   "outputs": [],
   "source": []
  },
  {
   "cell_type": "code",
   "execution_count": null,
   "id": "60ee914d",
   "metadata": {},
   "outputs": [],
   "source": []
  },
  {
   "cell_type": "code",
   "execution_count": null,
   "id": "00e292cf",
   "metadata": {},
   "outputs": [],
   "source": [
    "df  = pd.read_csv(\".\\\\output\\\\preprocessed_Dataframe\\SARS-CoV-2_Dataset_main.csv\")"
   ]
  }
 ],
 "metadata": {
  "kernelspec": {
   "display_name": "Python 3",
   "language": "python",
   "name": "python3"
  },
  "language_info": {
   "codemirror_mode": {
    "name": "ipython",
    "version": 3
   },
   "file_extension": ".py",
   "mimetype": "text/x-python",
   "name": "python",
   "nbconvert_exporter": "python",
   "pygments_lexer": "ipython3",
   "version": "3.7.7"
  }
 },
 "nbformat": 4,
 "nbformat_minor": 5
}
